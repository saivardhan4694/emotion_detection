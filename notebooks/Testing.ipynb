{
 "cells": [
  {
   "cell_type": "code",
   "execution_count": 1,
   "metadata": {},
   "outputs": [
    {
     "name": "stderr",
     "output_type": "stream",
     "text": [
      "2024-10-12 14:58:18.367492: I tensorflow/core/util/port.cc:110] oneDNN custom operations are on. You may see slightly different numerical results due to floating-point round-off errors from different computation orders. To turn them off, set the environment variable `TF_ENABLE_ONEDNN_OPTS=0`.\n",
      "2024-10-12 14:58:18.606347: I tensorflow/core/platform/cpu_feature_guard.cc:182] This TensorFlow binary is optimized to use available CPU instructions in performance-critical operations.\n",
      "To enable the following instructions: AVX2 AVX512F AVX512_VNNI AVX512_BF16 FMA, in other operations, rebuild TensorFlow with the appropriate compiler flags.\n",
      "2024-10-12 14:58:19.940296: W tensorflow/compiler/tf2tensorrt/utils/py_utils.cc:38] TF-TRT Warning: Could not find TensorRT\n"
     ]
    }
   ],
   "source": [
    "import cv2\n",
    "import numpy as np\n",
    "from keras.models import model_from_json"
   ]
  },
  {
   "cell_type": "code",
   "execution_count": 2,
   "metadata": {},
   "outputs": [
    {
     "name": "stderr",
     "output_type": "stream",
     "text": [
      "2024-10-12 15:01:46.824003: I tensorflow/compiler/xla/stream_executor/cuda/cuda_gpu_executor.cc:981] could not open file to read NUMA node: /sys/bus/pci/devices/0000:01:00.0/numa_node\n",
      "Your kernel may have been built without NUMA support.\n",
      "2024-10-12 15:01:47.208849: I tensorflow/compiler/xla/stream_executor/cuda/cuda_gpu_executor.cc:981] could not open file to read NUMA node: /sys/bus/pci/devices/0000:01:00.0/numa_node\n",
      "Your kernel may have been built without NUMA support.\n",
      "2024-10-12 15:01:47.208951: I tensorflow/compiler/xla/stream_executor/cuda/cuda_gpu_executor.cc:981] could not open file to read NUMA node: /sys/bus/pci/devices/0000:01:00.0/numa_node\n",
      "Your kernel may have been built without NUMA support.\n",
      "2024-10-12 15:01:47.212669: I tensorflow/compiler/xla/stream_executor/cuda/cuda_gpu_executor.cc:981] could not open file to read NUMA node: /sys/bus/pci/devices/0000:01:00.0/numa_node\n",
      "Your kernel may have been built without NUMA support.\n",
      "2024-10-12 15:01:47.212742: I tensorflow/compiler/xla/stream_executor/cuda/cuda_gpu_executor.cc:981] could not open file to read NUMA node: /sys/bus/pci/devices/0000:01:00.0/numa_node\n",
      "Your kernel may have been built without NUMA support.\n",
      "2024-10-12 15:01:47.212772: I tensorflow/compiler/xla/stream_executor/cuda/cuda_gpu_executor.cc:981] could not open file to read NUMA node: /sys/bus/pci/devices/0000:01:00.0/numa_node\n",
      "Your kernel may have been built without NUMA support.\n",
      "2024-10-12 15:01:47.417965: I tensorflow/compiler/xla/stream_executor/cuda/cuda_gpu_executor.cc:981] could not open file to read NUMA node: /sys/bus/pci/devices/0000:01:00.0/numa_node\n",
      "Your kernel may have been built without NUMA support.\n",
      "2024-10-12 15:01:47.418081: I tensorflow/compiler/xla/stream_executor/cuda/cuda_gpu_executor.cc:981] could not open file to read NUMA node: /sys/bus/pci/devices/0000:01:00.0/numa_node\n",
      "Your kernel may have been built without NUMA support.\n",
      "2024-10-12 15:01:47.418092: I tensorflow/core/common_runtime/gpu/gpu_device.cc:1726] Could not identify NUMA node of platform GPU id 0, defaulting to 0.  Your kernel may not have been built with NUMA support.\n",
      "2024-10-12 15:01:47.418132: I tensorflow/compiler/xla/stream_executor/cuda/cuda_gpu_executor.cc:981] could not open file to read NUMA node: /sys/bus/pci/devices/0000:01:00.0/numa_node\n",
      "Your kernel may have been built without NUMA support.\n",
      "2024-10-12 15:01:47.418226: I tensorflow/core/common_runtime/gpu/gpu_device.cc:1639] Created device /job:localhost/replica:0/task:0/device:GPU:0 with 5563 MB memory:  -> device: 0, name: NVIDIA GeForce RTX 4060 Laptop GPU, pci bus id: 0000:01:00.0, compute capability: 8.9\n"
     ]
    },
    {
     "name": "stdout",
     "output_type": "stream",
     "text": [
      "model loaded\n"
     ]
    }
   ],
   "source": [
    "tag_dict = {0:\"Angry\", 1: \"Disgusted\", 2: \"Fearful\", 3: \"Happy\", 4: \"Neural\", 5: \"Sad\", 6:\"Surprised\"}\n",
    "\n",
    "json_file = open(\"/mnt/d/repositories/emotion_detection/models/best_emotion_model_structure_epoch_4.json\", \"r\")\n",
    "json_loaded_model = json_file.read()\n",
    "json_file.close()\n",
    "emotion_model = model_from_json(json_loaded_model)\n",
    "\n",
    "emotion_model.load_weights(\"/mnt/d/repositories/emotion_detection/models/best_emotion_model_epoch_4.h5\")\n",
    "print(\"model loaded\")"
   ]
  },
  {
   "cell_type": "code",
   "execution_count": null,
   "metadata": {},
   "outputs": [
    {
     "name": "stdout",
     "output_type": "stream",
     "text": [
      "1/1 [==============================] - 0s 146ms/step\n"
     ]
    }
   ],
   "source": [
    "import cv2\n",
    "import numpy as np\n",
    "\n",
    "# Function to preprocess the face (for emotion prediction)\n",
    "def preprocess_face(face):\n",
    "    # Resize the face to the size expected by your model (e.g., 48x48)\n",
    "    face = cv2.resize(face, (48, 48))\n",
    "    # Normalize the face to [0, 1]\n",
    "    face = face / 255.0\n",
    "    # Expand dimensions to match the input shape (1, height, width, channels)\n",
    "    face = np.expand_dims(face, axis=0)  # Add batch dimension\n",
    "    face = np.expand_dims(face, axis=-1) # Add channel dimension for grayscale\n",
    "    return face\n",
    "\n",
    "# Function to predict emotion on a given face\n",
    "def predict_emotion_on_face(face):\n",
    "    # Preprocess the face\n",
    "    preprocessed_face = preprocess_face(face)\n",
    "    \n",
    "    # Predict the emotion\n",
    "    predictions = emotion_model.predict(preprocessed_face)\n",
    "    predicted_class = np.argmax(predictions, axis=1)[0]\n",
    "    confidence = predictions[0][predicted_class]\n",
    "    \n",
    "    return tag_dict[predicted_class], confidence\n",
    "\n",
    "# Function to detect faces, draw bounding boxes, and predict emotions\n",
    "def detect_and_predict_emotion(image_path):\n",
    "    # Load the image\n",
    "    img = cv2.imread(image_path)\n",
    "    # Convert the image to grayscale (needed for face detection)\n",
    "    gray_img = cv2.cvtColor(img, cv2.COLOR_BGR2GRAY)\n",
    "\n",
    "    # Load the Haar Cascade for face detection\n",
    "    face_cascade = cv2.CascadeClassifier(\"/mnt/d/repositories/emotion_detection/models/haarcascade_frontalface_default.xml\")\n",
    "\n",
    "    # Detect faces in the image\n",
    "    # Detect faces in the image\n",
    "    faces = face_cascade.detectMultiScale(gray_img, scaleFactor=1.1, minNeighbors=3)\n",
    "\n",
    "\n",
    "    # If no faces are detected, return\n",
    "    if len(faces) == 0:\n",
    "        print(\"No faces detected.\")\n",
    "        return\n",
    "\n",
    "    # Iterate over the detected faces\n",
    "    for (x, y, w, h) in faces:\n",
    "        # Extract the region of interest (the face)\n",
    "        face = gray_img[y:y+h, x:x+w]\n",
    "\n",
    "        # Predict the emotion for the detected face\n",
    "        predicted_emotion, confidence = predict_emotion_on_face(face)\n",
    "\n",
    "        # Draw a bounding box around the face\n",
    "        cv2.rectangle(img, (x, y), (x+w, y+h), (0, 255, 0), 2)\n",
    "\n",
    "        # Display the predicted emotion and confidence on the image\n",
    "        if confidence > 0.5:  # Display only if confidence is high\n",
    "            label = f\"{predicted_emotion} ({confidence*100:.2f}%)\"\n",
    "            cv2.putText(img, label, (x, y-10), cv2.FONT_HERSHEY_SIMPLEX, 0.9, (255, 0, 0), 2)\n",
    "\n",
    "    # Show the final image with bounding boxes and predictions\n",
    "    cv2.imshow(\"Emotion Detection\", img)\n",
    "    cv2.waitKey(0)  # Wait until a key is pressed\n",
    "    cv2.destroyAllWindows()\n",
    "\n",
    "# Test the model on a new image\n",
    "image_path = '/mnt/d/repositories/emotion_detection/data/raw/test/fear/PrivateTest_518212.jpg'  # Change this to your test image path\n",
    "detect_and_predict_emotion(image_path)\n",
    "\n"
   ]
  }
 ],
 "metadata": {
  "kernelspec": {
   "display_name": "myenv",
   "language": "python",
   "name": "python3"
  },
  "language_info": {
   "codemirror_mode": {
    "name": "ipython",
    "version": 3
   },
   "file_extension": ".py",
   "mimetype": "text/x-python",
   "name": "python",
   "nbconvert_exporter": "python",
   "pygments_lexer": "ipython3",
   "version": "3.8.19"
  }
 },
 "nbformat": 4,
 "nbformat_minor": 2
}
